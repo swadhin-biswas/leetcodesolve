{
 "cells": [
  {
   "cell_type": "code",
   "execution_count": 7,
   "metadata": {},
   "outputs": [
    {
     "name": "stdout",
     "output_type": "stream",
     "text": [
      "10\n",
      "10\n",
      "10\n",
      "8\n"
     ]
    }
   ],
   "source": [
    "# # Get n and m from first line\n",
    "# n, m = map(int, input().split())\n",
    "# print(f\"n={n}, m={m}\")  # Debug print\n",
    "\n",
    "# # Initialize empty array for the grid\n",
    "# array = []\n",
    "\n",
    "# # Read n lines\n",
    "# for i in range(n):\n",
    "#     arr2 = input().split(\",\")\n",
    "#     array.append(arr2)\n",
    "#     print(f\"Row {i}: {arr2}\")  # Debug print\n",
    "\n",
    "# print(\"Full array:\", array)  # Debug print\n",
    "\n",
    "# # Search for row with exactly m stars\n",
    "# for row in array:\n",
    "#     star_count = row.count(\"*\")\n",
    "#     print(f\"Checking row {row}, star count: {star_count}\")  # Debug print\n",
    "#     if star_count == m:\n",
    "#         print(\"Found matching row:\", row)\n",
    "#         break\n",
    "\n",
    "\n",
    "\n",
    "\n",
    "\n",
    "# x='**********.......***87675654534343*******************************'\n",
    "\n",
    "\n",
    "# print(x.count('*'))\n",
    "\n",
    "x=[['**********'], ['**********'], ['**********'], ['********']]\n",
    "\n",
    "for i in x :\n",
    "    count = i[0].count('*')\n",
    "    print(count)\n",
    "\n"
   ]
  },
  {
   "cell_type": "code",
   "execution_count": 1,
   "metadata": {},
   "outputs": [],
   "source": [
    "class Solve:\n",
    "    def toolong(word:str)->None:\n",
    "        \n",
    "        \n",
    "        x:int=word.__len__()\n",
    "\n",
    "        if x>10:\n",
    "            finalword=f'{word[:1]}{x-2}{word[-1:]}'\n",
    "            print(finalword)\n",
    "        else:\n",
    "           print(word)\n",
    "\n",
    "\n",
    "\n",
    "\n",
    "if __name__ == '__main__':\n",
    "    testcase:int=int(input())\n",
    "    for i in range(testcase):\n",
    "        word:str=str(input())\n",
    "        Solve.toolong(word)\n"
   ]
  }
 ],
 "metadata": {
  "kernelspec": {
   "display_name": "Python 3",
   "language": "python",
   "name": "python3"
  },
  "language_info": {
   "codemirror_mode": {
    "name": "ipython",
    "version": 3
   },
   "file_extension": ".py",
   "mimetype": "text/x-python",
   "name": "python",
   "nbconvert_exporter": "python",
   "pygments_lexer": "ipython3",
   "version": "3.11.8"
  }
 },
 "nbformat": 4,
 "nbformat_minor": 2
}
